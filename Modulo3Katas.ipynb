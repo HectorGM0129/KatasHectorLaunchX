{
 "cells": [
  {
   "cell_type": "markdown",
   "metadata": {},
   "source": [
    "## Problema 1 Solución"
   ]
  },
  {
   "cell_type": "code",
   "execution_count": null,
   "metadata": {},
   "outputs": [],
   "source": [
    "velocidad = 49\n",
    "\n",
    "if velocidad > 25:\n",
    "\tprint(\"Cuidado!!! Un asteroide viene\")\n",
    "else:\n",
    "\tprint(\"Todo bien, no representa una amenaza\")"
   ]
  },
  {
   "cell_type": "markdown",
   "metadata": {},
   "source": [
    "## Problema 2 Solución"
   ]
  },
  {
   "cell_type": "code",
   "execution_count": 1,
   "metadata": {},
   "outputs": [
    {
     "name": "stdout",
     "output_type": "stream",
     "text": [
      "Todo tranquilo mi bro, sigue tu dia dia\n"
     ]
    }
   ],
   "source": [
    "velocidad = 19\n",
    "\n",
    "if velocidad > 20:\n",
    "    print(\"Hay una estela de luz en el cielo\")\n",
    "elif velocidad == 20:\n",
    "    print(\"Hay un estela de luz en el cielo, mirala por favor uwu\")\n",
    "else:\n",
    "    print(\"Todo tranquilo mi bro, sigue tu dia dia\")\n"
   ]
  },
  {
   "cell_type": "markdown",
   "metadata": {},
   "source": [
    "## Problema 3"
   ]
  },
  {
   "cell_type": "code",
   "execution_count": 2,
   "metadata": {},
   "outputs": [
    {
     "name": "stdout",
     "output_type": "stream",
     "text": [
      "Hay una estela de luz en el cielo, mira!!!\n"
     ]
    }
   ],
   "source": [
    "velocidad = 25\n",
    "tamanio = 40\n",
    "\n",
    "\n",
    "if velocidad > 25 and tamanio > 25:\n",
    "    print(\"Cuidado!!!, Viene un asteroide muy peligroso\")\n",
    "elif velocidad >= 20 :\n",
    "    print(\"Hay una estela de luz en el cielo, mira!!!\")\n",
    "elif tamanio < 25:\n",
    "    print(\"Se va derritir en la atmosfera!\")\n",
    "else:\n",
    "    print(\"No hay nada \")\n"
   ]
  }
 ],
 "metadata": {
  "interpreter": {
   "hash": "6f60aabcfcaeca4dc9d199c1aeab065bf0fcd01cc378fc7c1e2158335a48cf84"
  },
  "kernelspec": {
   "display_name": "Python 3.10.2 64-bit",
   "language": "python",
   "name": "python3"
  },
  "language_info": {
   "codemirror_mode": {
    "name": "ipython",
    "version": 3
   },
   "file_extension": ".py",
   "mimetype": "text/x-python",
   "name": "python",
   "nbconvert_exporter": "python",
   "pygments_lexer": "ipython3",
   "version": "3.10.2"
  },
  "orig_nbformat": 4
 },
 "nbformat": 4,
 "nbformat_minor": 2
}
